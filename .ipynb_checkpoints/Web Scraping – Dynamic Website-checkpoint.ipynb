{
 "cells": [
  {
   "cell_type": "markdown",
   "id": "b456c01e",
   "metadata": {},
   "source": [
    "# Web Scraping (Dynamic Website)"
   ]
  },
  {
   "cell_type": "markdown",
   "id": "84fa39be",
   "metadata": {},
   "source": [
    "- **Dynamic Websites** are more *functional* compared to static websites, which are more *informational*. With dynamic websites, users can **interact with the information that is listed on the page*. \n",
    "\n",
    "- While static websites only rely on client-side HTML and CSS, **dynamic websites** utilize both client-side and server-side scripting with JavaScript, PHP, or ASP.\n",
    "\n",
    "- To generate dynamic content, websites use a combination of *server-side* and *client-side* scripting.\n",
    "\n",
    "    - **Client-side Scripting:** Code that is executed by the **browser**, usually with *JavaScript*.\n",
    "    \n",
    "    - **Server-side Scripting:** Code that is exectued by the **server**, before the content is sent to the user's browser.\n",
    "    \n",
    "- Dynamic websites are ultimately based on *HTML* and *CSS*, but *server-side scripting is required* to make them functional. If you want the website to be complex and greatly functional, then a dynamic website should be your go-to option.\n",
    "    - The downside for a dynamic website is that it takes longer to build and the initial cost is higher."
   ]
  },
  {
   "cell_type": "markdown",
   "id": "92693197",
   "metadata": {},
   "source": [
    "- **Dynamic Web Pages** are trickier to scrape with *BeautifulSoup* because sometimes the code happens on the **server side**, and *BeautifulSoup* needs to let a browser run it.\n",
    "\n",
    "- "
   ]
  },
  {
   "cell_type": "code",
   "execution_count": 2,
   "id": "6b016c4f",
   "metadata": {},
   "outputs": [],
   "source": [
    "import requests\n",
    "from bs4 import BeautifulSoup\n"
   ]
  },
  {
   "cell_type": "code",
   "execution_count": null,
   "id": "23deb750",
   "metadata": {},
   "outputs": [],
   "source": []
  },
  {
   "cell_type": "code",
   "execution_count": null,
   "id": "4daacdcb",
   "metadata": {},
   "outputs": [],
   "source": []
  }
 ],
 "metadata": {
  "kernelspec": {
   "display_name": "Python 3",
   "language": "python",
   "name": "python3"
  },
  "language_info": {
   "codemirror_mode": {
    "name": "ipython",
    "version": 3
   },
   "file_extension": ".py",
   "mimetype": "text/x-python",
   "name": "python",
   "nbconvert_exporter": "python",
   "pygments_lexer": "ipython3",
   "version": "3.8.8"
  }
 },
 "nbformat": 4,
 "nbformat_minor": 5
}
